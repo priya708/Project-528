{
 "cells": [
  {
   "cell_type": "code",
   "execution_count": 8,
   "metadata": {
    "collapsed": false
   },
   "outputs": [],
   "source": [
    "from pyhive import hive\n",
    "conn = hive.Connection(host=\"localhost\", port=10000, username=\"pkale\")"
   ]
  },
  {
   "cell_type": "code",
   "execution_count": 6,
   "metadata": {
    "collapsed": false,
    "scrolled": false
   },
   "outputs": [
    {
     "name": "stdout",
     "output_type": "stream",
     "text": [
      "(0, 'SLF4J: Class path contains multiple SLF4J bindings.\\nSLF4J: Found binding in [jar:file:/usr/hdp/2.3.0.0-2557/hadoop/lib/slf4j-log4j12-1.7.10.jar!/org/slf4j/impl/StaticLoggerBinder.class]\\nSLF4J: Found binding in [jar:file:/usr/hdp/2.2.4.4-16/spark/lib/spark-assembly-1.3.1.2.2.4.4-16-hadoop2.6.0.2.2.4.4-16.jar!/org/slf4j/impl/StaticLoggerBinder.class]\\nSLF4J: See http://www.slf4j.org/codes.html#multiple_bindings for an explanation.\\nSLF4J: Actual binding is of type [org.slf4j.impl.Log4jLoggerFactory]\\nWARNING: Use \"yarn jar\" to launch YARN applications.\\nSLF4J: Class path contains multiple SLF4J bindings.\\nSLF4J: Found binding in [jar:file:/usr/hdp/2.3.0.0-2557/hadoop/lib/slf4j-log4j12-1.7.10.jar!/org/slf4j/impl/StaticLoggerBinder.class]\\nSLF4J: Found binding in [jar:file:/usr/hdp/2.2.4.4-16/spark/lib/spark-assembly-1.3.1.2.2.4.4-16-hadoop2.6.0.2.2.4.4-16.jar!/org/slf4j/impl/StaticLoggerBinder.class]\\nSLF4J: See http://www.slf4j.org/codes.html#multiple_bindings for an explanation.\\nSLF4J: Actual binding is of type [org.slf4j.impl.Log4jLoggerFactory]\\n\\nLogging initialized using configuration in file:/etc/hive/2.3.0.0-2557/0/hive-log4j.properties\\nQuery ID = root_20151202043322_7bd21d97-29da-432f-9e32-8167744009f4\\nTotal jobs = 1\\nLaunching Job 1 out of 1\\n\\n\\nStatus: Running (Executing on YARN cluster with App id application_1448993118674_0033)\\n\\nMap 1: -/-\\tReducer 2: 0/1\\tReducer 3: 0/1\\t\\nMap 1: 0/1\\tReducer 2: 0/1\\tReducer 3: 0/1\\t\\nMap 1: 0/1\\tReducer 2: 0/1\\tReducer 3: 0/1\\t\\nMap 1: 0(+1)/1\\tReducer 2: 0/1\\tReducer 3: 0/1\\t\\nMap 1: 0(+1)/1\\tReducer 2: 0/1\\tReducer 3: 0/1\\t\\nMap 1: 0(+1)/1\\tReducer 2: 0/1\\tReducer 3: 0/1\\t\\nMap 1: 0(+1)/1\\tReducer 2: 0/1\\tReducer 3: 0/1\\t\\nMap 1: 1/1\\tReducer 2: 0/1\\tReducer 3: 0/1\\t\\nMap 1: 1/1\\tReducer 2: 0(+1)/1\\tReducer 3: 0/1\\t\\nMap 1: 1/1\\tReducer 2: 1/1\\tReducer 3: 0(+1)/1\\t\\nMap 1: 1/1\\tReducer 2: 1/1\\tReducer 3: 1/1\\t\\nMoving data to: hdfs://sandbox.hortonworks.com:8020/apps/hive/warehouse/output1\\nTable default.output1 stats: [numFiles=1, numRows=50, totalSize=1087, rawDataSize=901]\\nOK\\nTime taken: 55.055 seconds')\n"
     ]
    }
   ],
   "source": [
    "import commands\n",
    "\n",
    "cmd = \"hive -f 'input.sql'\"\n",
    "\n",
    "output = commands.getstatusoutput(cmd)\n",
    "\n",
    "print output"
   ]
  },
  {
   "cell_type": "code",
   "execution_count": null,
   "metadata": {
    "collapsed": true
   },
   "outputs": [],
   "source": []
  },
  {
   "cell_type": "code",
   "execution_count": null,
   "metadata": {
    "collapsed": true
   },
   "outputs": [],
   "source": []
  },
  {
   "cell_type": "code",
   "execution_count": null,
   "metadata": {
    "collapsed": true
   },
   "outputs": [],
   "source": []
  }
 ],
 "metadata": {
  "kernelspec": {
   "display_name": "Python 2",
   "language": "python",
   "name": "python2"
  },
  "language_info": {
   "codemirror_mode": {
    "name": "ipython",
    "version": 2
   },
   "file_extension": ".py",
   "mimetype": "text/x-python",
   "name": "python",
   "nbconvert_exporter": "python",
   "pygments_lexer": "ipython2",
   "version": "2.7.5"
  }
 },
 "nbformat": 4,
 "nbformat_minor": 0
}
